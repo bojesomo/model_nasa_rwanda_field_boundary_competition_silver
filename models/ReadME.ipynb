{
 "cells": [
  {
   "cell_type": "markdown",
   "id": "591be4c8",
   "metadata": {},
   "source": [
    "This is the main readme\n",
    "\n",
    "The code navigation goes as follows\n",
    "\n",
    "    - For data conversion from raw files to pkl (Saving Images as pkl)\n",
    "    - structure\n",
    "        - data_loader : includes dataset and pytorch-lightning Datamodule\n",
    "        - model : includes the pytorch-lightning model used in this work\n",
    "        - utils : extra code simplification functions\n",
    "        - sam : SAM optimizer\n",
    "        - decoders : include some segmentation decoders not in segmentation-models-pytorch\n",
    "            - MANet.py\n",
    "            - fapn.py\n",
    "        - data/  (created during pkl file creation)\n",
    "            - train/\n",
    "                - fields/\n",
    "                - masks/\n",
    "            - test/\n",
    "                - fields/\n",
    "            - train.csv\n",
    "            - test.csv\n",
    "            - statistics.csv\n",
    "            \n",
    "    - For running the experiment used in generating the leaderboard submission (Experiments)\n",
    "        - This experiment was used for creating a list of models (17)\n",
    "        - The models will be saved in $results$ folder.\n",
    "        - The experiment also individually create a submission ready csv files for each $model$ used as well as an ensemble based on hard voting.\n",
    "        - the ensemble (ens_sub.csv) created is the final submission.\n",
    "                 \n",
    "                 \n",
    " \n",
    " Thank you"
   ]
  },
  {
   "cell_type": "code",
   "execution_count": null,
   "id": "d2730470",
   "metadata": {},
   "outputs": [],
   "source": []
  }
 ],
 "metadata": {
  "kernelspec": {
   "display_name": "ai4ex",
   "language": "python",
   "name": "ai4ex"
  },
  "language_info": {
   "codemirror_mode": {
    "name": "ipython",
    "version": 3
   },
   "file_extension": ".py",
   "mimetype": "text/x-python",
   "name": "python",
   "nbconvert_exporter": "python",
   "pygments_lexer": "ipython3",
   "version": "3.9.7"
  }
 },
 "nbformat": 4,
 "nbformat_minor": 5
}
