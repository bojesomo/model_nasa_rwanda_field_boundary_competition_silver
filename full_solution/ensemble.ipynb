{
 "cells": [
  {
   "cell_type": "raw",
   "id": "60723b84",
   "metadata": {},
   "source": [
    "Simple ensemble top submit. This notebook help anyone to easy check ensemble. Add more files if you want to check !!!"
   ]
  },
  {
   "cell_type": "code",
   "execution_count": 1,
   "id": "86518f46",
   "metadata": {},
   "outputs": [],
   "source": [
    "import numpy as np\n",
    "import pandas as pd"
   ]
  },
  {
   "cell_type": "code",
   "execution_count": 2,
   "id": "42aee118",
   "metadata": {},
   "outputs": [],
   "source": [
    "all_files = [\n",
    "    'predictions/selecsls42b_MANet_0222-2156.csv',\n",
    "    'predictions/selecsls60_manet_0221-2302.csv',\n",
    "    'predictions/selecsls42b_manet_0221-1558.csv',\n",
    "]\n",
    "\n",
    "dfs = [pd.read_csv(file) for file in all_files]"
   ]
  },
  {
   "cell_type": "code",
   "execution_count": 3,
   "id": "f65a3741",
   "metadata": {},
   "outputs": [],
   "source": [
    "preds = pd.concat([(df.label > 0.9) for df in dfs], axis=1).sum(axis=1)"
   ]
  },
  {
   "cell_type": "code",
   "execution_count": 4,
   "id": "6797ede5",
   "metadata": {},
   "outputs": [
    {
     "name": "stdout",
     "output_type": "stream",
     "text": [
      "0    783929\n",
      "1     68039\n",
      "Name: label, dtype: int64\n"
     ]
    },
    {
     "data": {
      "text/html": [
       "<div>\n",
       "<style scoped>\n",
       "    .dataframe tbody tr th:only-of-type {\n",
       "        vertical-align: middle;\n",
       "    }\n",
       "\n",
       "    .dataframe tbody tr th {\n",
       "        vertical-align: top;\n",
       "    }\n",
       "\n",
       "    .dataframe thead th {\n",
       "        text-align: right;\n",
       "    }\n",
       "</style>\n",
       "<table border=\"1\" class=\"dataframe\">\n",
       "  <thead>\n",
       "    <tr style=\"text-align: right;\">\n",
       "      <th></th>\n",
       "      <th>tile_row_column</th>\n",
       "      <th>label</th>\n",
       "    </tr>\n",
       "  </thead>\n",
       "  <tbody>\n",
       "    <tr>\n",
       "      <th>0</th>\n",
       "      <td>Tile00_0_0</td>\n",
       "      <td>0</td>\n",
       "    </tr>\n",
       "    <tr>\n",
       "      <th>1</th>\n",
       "      <td>Tile00_0_1</td>\n",
       "      <td>0</td>\n",
       "    </tr>\n",
       "    <tr>\n",
       "      <th>2</th>\n",
       "      <td>Tile00_0_2</td>\n",
       "      <td>0</td>\n",
       "    </tr>\n",
       "    <tr>\n",
       "      <th>3</th>\n",
       "      <td>Tile00_0_3</td>\n",
       "      <td>0</td>\n",
       "    </tr>\n",
       "    <tr>\n",
       "      <th>4</th>\n",
       "      <td>Tile00_0_4</td>\n",
       "      <td>0</td>\n",
       "    </tr>\n",
       "  </tbody>\n",
       "</table>\n",
       "</div>"
      ],
      "text/plain": [
       "  tile_row_column  label\n",
       "0      Tile00_0_0      0\n",
       "1      Tile00_0_1      0\n",
       "2      Tile00_0_2      0\n",
       "3      Tile00_0_3      0\n",
       "4      Tile00_0_4      0"
      ]
     },
     "execution_count": 4,
     "metadata": {},
     "output_type": "execute_result"
    }
   ],
   "source": [
    "sub = dfs[0].copy()\n",
    "sub['label'] = 1 * (preds >= ((len(dfs) + 1) // 2))\n",
    "\n",
    "print(sub.label.value_counts().sort_index())\n",
    "sub.head()"
   ]
  },
  {
   "cell_type": "code",
   "execution_count": 5,
   "id": "8dabddb1",
   "metadata": {},
   "outputs": [],
   "source": [
    "sub.to_csv('submission.csv', index=False)"
   ]
  },
  {
   "cell_type": "code",
   "execution_count": null,
   "id": "4415e80f",
   "metadata": {},
   "outputs": [],
   "source": []
  }
 ],
 "metadata": {
  "kernelspec": {
   "display_name": "ai4ex",
   "language": "python",
   "name": "ai4ex"
  },
  "language_info": {
   "codemirror_mode": {
    "name": "ipython",
    "version": 3
   },
   "file_extension": ".py",
   "mimetype": "text/x-python",
   "name": "python",
   "nbconvert_exporter": "python",
   "pygments_lexer": "ipython3",
   "version": "3.9.7"
  }
 },
 "nbformat": 4,
 "nbformat_minor": 5
}
