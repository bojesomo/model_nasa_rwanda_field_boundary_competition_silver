{
 "cells": [
  {
   "cell_type": "code",
   "execution_count": null,
   "id": "41579848",
   "metadata": {},
   "outputs": [],
   "source": [
    "!pip install pytorch_lightning\n",
    "!pip install torchmetrics\n",
    "!pip install segmentation_models_pytorch\n",
    "!pip install --upgrade timm\n",
    "!pip install ttach\n",
    "!pip install einops\n",
    "!pip install rasterio"
   ]
  },
  {
   "cell_type": "code",
   "execution_count": 1,
   "id": "080bd3f5",
   "metadata": {},
   "outputs": [],
   "source": [
    "from model import BoundaryModel, EnsembleVotingModel\n",
    "from data_loader import BoundaryData\n",
    "from utils import free_memory\n",
    "\n",
    "import pytorch_lightning as pl\n",
    "import pandas as pd\n",
    "import numpy as np\n",
    "import torch\n",
    "import os\n",
    "import argparse\n",
    "import datetime"
   ]
  },
  {
   "cell_type": "code",
   "execution_count": 2,
   "id": "1ab82a87",
   "metadata": {},
   "outputs": [
    {
     "data": {
      "text/html": [
       "<div>\n",
       "<style scoped>\n",
       "    .dataframe tbody tr th:only-of-type {\n",
       "        vertical-align: middle;\n",
       "    }\n",
       "\n",
       "    .dataframe tbody tr th {\n",
       "        vertical-align: top;\n",
       "    }\n",
       "\n",
       "    .dataframe thead th {\n",
       "        text-align: right;\n",
       "    }\n",
       "</style>\n",
       "<table border=\"1\" class=\"dataframe\">\n",
       "  <thead>\n",
       "    <tr style=\"text-align: right;\">\n",
       "      <th></th>\n",
       "      <th>backbone</th>\n",
       "      <th>decoder</th>\n",
       "      <th>scheduler</th>\n",
       "      <th>use_visible_only</th>\n",
       "      <th>include_extent</th>\n",
       "      <th>optimizer</th>\n",
       "    </tr>\n",
       "  </thead>\n",
       "  <tbody>\n",
       "    <tr>\n",
       "      <th>0</th>\n",
       "      <td>selecsls42b</td>\n",
       "      <td>MANet</td>\n",
       "      <td></td>\n",
       "      <td>True</td>\n",
       "      <td>False</td>\n",
       "      <td>sam</td>\n",
       "    </tr>\n",
       "    <tr>\n",
       "      <th>1</th>\n",
       "      <td>selecsls42b</td>\n",
       "      <td>MANet</td>\n",
       "      <td></td>\n",
       "      <td>False</td>\n",
       "      <td>False</td>\n",
       "      <td>sam</td>\n",
       "    </tr>\n",
       "    <tr>\n",
       "      <th>2</th>\n",
       "      <td>selecsls42b</td>\n",
       "      <td>MANet</td>\n",
       "      <td></td>\n",
       "      <td>True</td>\n",
       "      <td>True</td>\n",
       "      <td>sam</td>\n",
       "    </tr>\n",
       "    <tr>\n",
       "      <th>3</th>\n",
       "      <td>selecsls42b</td>\n",
       "      <td>fapn</td>\n",
       "      <td>step</td>\n",
       "      <td>True</td>\n",
       "      <td>False</td>\n",
       "      <td>sam</td>\n",
       "    </tr>\n",
       "    <tr>\n",
       "      <th>4</th>\n",
       "      <td>selecsls42b</td>\n",
       "      <td>manet</td>\n",
       "      <td></td>\n",
       "      <td>True</td>\n",
       "      <td>False</td>\n",
       "      <td>sam</td>\n",
       "    </tr>\n",
       "    <tr>\n",
       "      <th>5</th>\n",
       "      <td>selecsls42b</td>\n",
       "      <td>manet</td>\n",
       "      <td></td>\n",
       "      <td>True</td>\n",
       "      <td>True</td>\n",
       "      <td>sam</td>\n",
       "    </tr>\n",
       "    <tr>\n",
       "      <th>6</th>\n",
       "      <td>selecsls60</td>\n",
       "      <td>MANet</td>\n",
       "      <td></td>\n",
       "      <td>True</td>\n",
       "      <td>False</td>\n",
       "      <td>sam</td>\n",
       "    </tr>\n",
       "    <tr>\n",
       "      <th>7</th>\n",
       "      <td>selecsls60</td>\n",
       "      <td>manet</td>\n",
       "      <td></td>\n",
       "      <td>True</td>\n",
       "      <td>False</td>\n",
       "      <td>sam</td>\n",
       "    </tr>\n",
       "    <tr>\n",
       "      <th>8</th>\n",
       "      <td>selecsls60b</td>\n",
       "      <td>MANet</td>\n",
       "      <td></td>\n",
       "      <td>True</td>\n",
       "      <td>False</td>\n",
       "      <td>sam</td>\n",
       "    </tr>\n",
       "    <tr>\n",
       "      <th>9</th>\n",
       "      <td>sehalonet33ts</td>\n",
       "      <td>MANet</td>\n",
       "      <td></td>\n",
       "      <td>False</td>\n",
       "      <td>False</td>\n",
       "      <td>sam</td>\n",
       "    </tr>\n",
       "    <tr>\n",
       "      <th>10</th>\n",
       "      <td>sebotnet33ts_256</td>\n",
       "      <td>MANet</td>\n",
       "      <td></td>\n",
       "      <td>False</td>\n",
       "      <td>False</td>\n",
       "      <td>sam</td>\n",
       "    </tr>\n",
       "    <tr>\n",
       "      <th>11</th>\n",
       "      <td>sebotnet33ts_256</td>\n",
       "      <td>MANet</td>\n",
       "      <td></td>\n",
       "      <td>True</td>\n",
       "      <td>False</td>\n",
       "      <td>sam</td>\n",
       "    </tr>\n",
       "    <tr>\n",
       "      <th>12</th>\n",
       "      <td>vgg13_bn</td>\n",
       "      <td>manet</td>\n",
       "      <td></td>\n",
       "      <td>True</td>\n",
       "      <td>False</td>\n",
       "      <td>sam</td>\n",
       "    </tr>\n",
       "    <tr>\n",
       "      <th>13</th>\n",
       "      <td>vgg13_bn</td>\n",
       "      <td>unet++</td>\n",
       "      <td>onecycle</td>\n",
       "      <td>False</td>\n",
       "      <td>False</td>\n",
       "      <td>adamw</td>\n",
       "    </tr>\n",
       "    <tr>\n",
       "      <th>14</th>\n",
       "      <td>vgg19</td>\n",
       "      <td>manet</td>\n",
       "      <td></td>\n",
       "      <td>True</td>\n",
       "      <td>False</td>\n",
       "      <td>sam</td>\n",
       "    </tr>\n",
       "    <tr>\n",
       "      <th>15</th>\n",
       "      <td>vgg19_bn</td>\n",
       "      <td>unet++</td>\n",
       "      <td>onecycle</td>\n",
       "      <td>False</td>\n",
       "      <td>False</td>\n",
       "      <td>adamw</td>\n",
       "    </tr>\n",
       "    <tr>\n",
       "      <th>16</th>\n",
       "      <td>vgg16</td>\n",
       "      <td>unet++</td>\n",
       "      <td>onecycle</td>\n",
       "      <td>False</td>\n",
       "      <td>False</td>\n",
       "      <td>adamw</td>\n",
       "    </tr>\n",
       "  </tbody>\n",
       "</table>\n",
       "</div>"
      ],
      "text/plain": [
       "            backbone decoder scheduler  use_visible_only  include_extent  \\\n",
       "0        selecsls42b   MANet                        True           False   \n",
       "1        selecsls42b   MANet                       False           False   \n",
       "2        selecsls42b   MANet                        True            True   \n",
       "3        selecsls42b    fapn      step              True           False   \n",
       "4        selecsls42b   manet                        True           False   \n",
       "5        selecsls42b   manet                        True            True   \n",
       "6         selecsls60   MANet                        True           False   \n",
       "7         selecsls60   manet                        True           False   \n",
       "8        selecsls60b   MANet                        True           False   \n",
       "9      sehalonet33ts   MANet                       False           False   \n",
       "10  sebotnet33ts_256   MANet                       False           False   \n",
       "11  sebotnet33ts_256   MANet                        True           False   \n",
       "12          vgg13_bn   manet                        True           False   \n",
       "13          vgg13_bn  unet++  onecycle             False           False   \n",
       "14             vgg19   manet                        True           False   \n",
       "15          vgg19_bn  unet++  onecycle             False           False   \n",
       "16             vgg16  unet++  onecycle             False           False   \n",
       "\n",
       "   optimizer  \n",
       "0        sam  \n",
       "1        sam  \n",
       "2        sam  \n",
       "3        sam  \n",
       "4        sam  \n",
       "5        sam  \n",
       "6        sam  \n",
       "7        sam  \n",
       "8        sam  \n",
       "9        sam  \n",
       "10       sam  \n",
       "11       sam  \n",
       "12       sam  \n",
       "13     adamw  \n",
       "14       sam  \n",
       "15     adamw  \n",
       "16     adamw  "
      ]
     },
     "execution_count": 2,
     "metadata": {},
     "output_type": "execute_result"
    }
   ],
   "source": [
    "# the experiments configurations\n",
    "cfgs = [\n",
    "    dict(\n",
    "        backbone='selecsls42b',\n",
    "        decoder='MANet',\n",
    "        scheduler='',\n",
    "        use_visible_only=True,\n",
    "        include_extent=False,\n",
    "        optimizer='sam',\n",
    "    ),\n",
    "    dict(\n",
    "        backbone='selecsls42b',\n",
    "        decoder='MANet',\n",
    "        scheduler='',\n",
    "        use_visible_only=False,\n",
    "        include_extent=False,\n",
    "        optimizer='sam',\n",
    "    ),\n",
    "    dict(\n",
    "        backbone='selecsls42b',\n",
    "        decoder='MANet',\n",
    "        scheduler='',\n",
    "        use_visible_only=True,\n",
    "        include_extent=True,\n",
    "        optimizer='sam',\n",
    "    ),\n",
    "    dict(\n",
    "        backbone='selecsls42b',\n",
    "        decoder='fapn',\n",
    "        scheduler='step',\n",
    "        use_visible_only=True,\n",
    "        include_extent=False,\n",
    "        optimizer='sam',\n",
    "    ),\n",
    "    dict(\n",
    "        backbone='selecsls42b',\n",
    "        decoder='manet',\n",
    "        scheduler='',\n",
    "        use_visible_only=True,\n",
    "        include_extent=False,\n",
    "        optimizer='sam',\n",
    "    ),\n",
    "    dict(\n",
    "        backbone='selecsls42b',\n",
    "        decoder='manet',\n",
    "        scheduler='',\n",
    "        use_visible_only=True,\n",
    "        include_extent=True,\n",
    "        optimizer='sam',\n",
    "    ),\n",
    "    dict(\n",
    "        backbone='selecsls60',\n",
    "        decoder='MANet',\n",
    "        scheduler='',\n",
    "        use_visible_only=True,\n",
    "        include_extent=False,\n",
    "        optimizer='sam',\n",
    "    ),\n",
    "    dict(\n",
    "        backbone='selecsls60',\n",
    "        decoder='manet',\n",
    "        scheduler='',\n",
    "        use_visible_only=True,\n",
    "        include_extent=False,\n",
    "        optimizer='sam',\n",
    "    ),\n",
    "    dict(\n",
    "        backbone='selecsls60b',\n",
    "        decoder='MANet',\n",
    "        scheduler='',\n",
    "        use_visible_only=True,\n",
    "        include_extent=False,\n",
    "        optimizer='sam',\n",
    "    ),\n",
    "    dict(\n",
    "        backbone='sehalonet33ts',\n",
    "        decoder='MANet',\n",
    "        scheduler='',\n",
    "        use_visible_only=False,\n",
    "        include_extent=False,\n",
    "        optimizer='sam',\n",
    "    ),\n",
    "    dict(\n",
    "        backbone='sebotnet33ts_256',\n",
    "        decoder='MANet',\n",
    "        scheduler='',\n",
    "        use_visible_only=False,\n",
    "        include_extent=False,\n",
    "        optimizer='sam',\n",
    "    ),\n",
    "    dict(\n",
    "        backbone='sebotnet33ts_256',\n",
    "        decoder='MANet',\n",
    "        scheduler='',\n",
    "        use_visible_only=True,\n",
    "        include_extent=False,\n",
    "        optimizer='sam',\n",
    "    ),\n",
    "    dict(\n",
    "        backbone='vgg13_bn',\n",
    "        decoder='manet',\n",
    "        scheduler='',\n",
    "        use_visible_only=True,\n",
    "        include_extent=False,\n",
    "        optimizer='sam',\n",
    "    ),\n",
    "    dict(\n",
    "        backbone='vgg13_bn',\n",
    "        decoder='unet++',\n",
    "        scheduler='onecycle',\n",
    "        use_visible_only=False,\n",
    "        include_extent=False,\n",
    "        optimizer='adamw',\n",
    "    ),\n",
    "    dict(\n",
    "        backbone='vgg19',\n",
    "        decoder='manet',\n",
    "        scheduler='',\n",
    "        use_visible_only=True,\n",
    "        include_extent=False,\n",
    "        optimizer='sam',\n",
    "    ),\n",
    "    dict(\n",
    "        backbone='vgg19_bn',\n",
    "        decoder='unet++',\n",
    "        scheduler='onecycle',\n",
    "        use_visible_only=False,\n",
    "        include_extent=False,\n",
    "        optimizer='adamw',\n",
    "    ),\n",
    "    dict(\n",
    "        backbone='vgg16',\n",
    "        decoder='unet++',\n",
    "        scheduler='onecycle',\n",
    "        use_visible_only=False,\n",
    "        include_extent=False,\n",
    "        optimizer='adamw',\n",
    "    ),\n",
    "]\n",
    "\n",
    "cfgs = pd.DataFrame(cfgs)\n",
    "cfgs"
   ]
  },
  {
   "cell_type": "code",
   "execution_count": 3,
   "id": "fa0f38ca",
   "metadata": {},
   "outputs": [],
   "source": [
    "SEED = 417\n",
    "log_dir = 'results'"
   ]
  },
  {
   "cell_type": "code",
   "execution_count": 4,
   "id": "7c5172df",
   "metadata": {},
   "outputs": [
    {
     "name": "stderr",
     "output_type": "stream",
     "text": [
      "Global seed set to 417\n"
     ]
    }
   ],
   "source": [
    "# initial reproducibility\n",
    "pl.seed_everything(SEED, workers=True)\n",
    "os.environ[\"CUBLAS_WORKSPACE_CONFIG\"]=\":4096:2\""
   ]
  },
  {
   "cell_type": "code",
   "execution_count": 5,
   "id": "3c51cad4",
   "metadata": {},
   "outputs": [
    {
     "data": {
      "text/html": [
       "<div>\n",
       "<style scoped>\n",
       "    .dataframe tbody tr th:only-of-type {\n",
       "        vertical-align: middle;\n",
       "    }\n",
       "\n",
       "    .dataframe tbody tr th {\n",
       "        vertical-align: top;\n",
       "    }\n",
       "\n",
       "    .dataframe thead th {\n",
       "        text-align: right;\n",
       "    }\n",
       "</style>\n",
       "<table border=\"1\" class=\"dataframe\">\n",
       "  <thead>\n",
       "    <tr style=\"text-align: right;\">\n",
       "      <th></th>\n",
       "      <th>chip_id</th>\n",
       "      <th>year</th>\n",
       "      <th>month</th>\n",
       "    </tr>\n",
       "  </thead>\n",
       "  <tbody>\n",
       "    <tr>\n",
       "      <th>0</th>\n",
       "      <td>00</td>\n",
       "      <td>2021</td>\n",
       "      <td>3</td>\n",
       "    </tr>\n",
       "    <tr>\n",
       "      <th>1</th>\n",
       "      <td>00</td>\n",
       "      <td>2021</td>\n",
       "      <td>4</td>\n",
       "    </tr>\n",
       "    <tr>\n",
       "      <th>2</th>\n",
       "      <td>00</td>\n",
       "      <td>2021</td>\n",
       "      <td>8</td>\n",
       "    </tr>\n",
       "    <tr>\n",
       "      <th>3</th>\n",
       "      <td>00</td>\n",
       "      <td>2021</td>\n",
       "      <td>10</td>\n",
       "    </tr>\n",
       "    <tr>\n",
       "      <th>4</th>\n",
       "      <td>00</td>\n",
       "      <td>2021</td>\n",
       "      <td>11</td>\n",
       "    </tr>\n",
       "    <tr>\n",
       "      <th>...</th>\n",
       "      <td>...</td>\n",
       "      <td>...</td>\n",
       "      <td>...</td>\n",
       "    </tr>\n",
       "    <tr>\n",
       "      <th>73</th>\n",
       "      <td>12</td>\n",
       "      <td>2021</td>\n",
       "      <td>4</td>\n",
       "    </tr>\n",
       "    <tr>\n",
       "      <th>74</th>\n",
       "      <td>12</td>\n",
       "      <td>2021</td>\n",
       "      <td>8</td>\n",
       "    </tr>\n",
       "    <tr>\n",
       "      <th>75</th>\n",
       "      <td>12</td>\n",
       "      <td>2021</td>\n",
       "      <td>10</td>\n",
       "    </tr>\n",
       "    <tr>\n",
       "      <th>76</th>\n",
       "      <td>12</td>\n",
       "      <td>2021</td>\n",
       "      <td>11</td>\n",
       "    </tr>\n",
       "    <tr>\n",
       "      <th>77</th>\n",
       "      <td>12</td>\n",
       "      <td>2021</td>\n",
       "      <td>12</td>\n",
       "    </tr>\n",
       "  </tbody>\n",
       "</table>\n",
       "<p>78 rows × 3 columns</p>\n",
       "</div>"
      ],
      "text/plain": [
       "   chip_id  year  month\n",
       "0       00  2021      3\n",
       "1       00  2021      4\n",
       "2       00  2021      8\n",
       "3       00  2021     10\n",
       "4       00  2021     11\n",
       "..     ...   ...    ...\n",
       "73      12  2021      4\n",
       "74      12  2021      8\n",
       "75      12  2021     10\n",
       "76      12  2021     11\n",
       "77      12  2021     12\n",
       "\n",
       "[78 rows x 3 columns]"
      ]
     },
     "execution_count": 5,
     "metadata": {},
     "output_type": "execute_result"
    }
   ],
   "source": [
    "df_test = pd.read_csv('data/test.csv', converters = {'chip_id': str})\n",
    "df_test"
   ]
  },
  {
   "cell_type": "code",
   "execution_count": 6,
   "id": "83311724",
   "metadata": {
    "scrolled": false
   },
   "outputs": [],
   "source": [
    "checkpoint_paths = []\n",
    "\n",
    "for index in cfgs.index:\n",
    "    cfg = cfgs.iloc[index]\n",
    "    \n",
    "    args = dict(\n",
    "        log_dir=log_dir,\n",
    "#         num_classes=3,\n",
    "        batch_size=4,\n",
    "        seed=SEED,\n",
    "        epochs=40,\n",
    "#         patience=20,\n",
    "        use_visible_bands_only=cfg['use_visible_only'],\n",
    "        include_extent=cfg['include_extent'],\n",
    "        include_background=False,\n",
    "        include_distance=False,\n",
    "        gpus='0',\n",
    "        model=cfg['backbone'],\n",
    "        decoder=cfg['decoder'],\n",
    "        precision=32,\n",
    "        optimizer=cfg['optimizer'],\n",
    "        scheduler=cfg['scheduler'],\n",
    "        warmup=10,\n",
    "        weight_decay=1e-5,\n",
    "        repeats=25,\n",
    "        lr=1e-3,\n",
    "    )\n",
    "\n",
    "\n",
    "    args = argparse.Namespace(**args)\n",
    "    \n",
    "    date_time = datetime.datetime.now().strftime(\"%m%d-%H:%M\")\n",
    "\n",
    "    name = args.model + '_' + args.decoder\n",
    "    version = name + '_' + date_time\n",
    "\n",
    "    # make reproducible\n",
    "    pl.seed_everything(args.seed, workers=True)\n",
    "\n",
    "    print('\\n')\n",
    "    print(args)\n",
    "    print('\\n')\n",
    "    \n",
    "    # the datamodule here\n",
    "    datamodule = BoundaryData(\n",
    "        batch_size=args.batch_size, \n",
    "        seed=args.seed, \n",
    "        workers=8,\n",
    "        repeats=args.repeats, \n",
    "        use_visible_bands_only=args.use_visible_bands_only,\n",
    "        include_extent=args.include_extent,\n",
    "        include_distance=args.include_distance,\n",
    "        include_background=args.include_background,\n",
    "        data_root='data/',\n",
    "    )\n",
    "    datamodule.setup()\n",
    "    \n",
    "    # call the model here\n",
    "    model = BoundaryModel(args)\n",
    "\n",
    "    # Initialize simple Callbacks # not optimal as it leads to 2 model saved\n",
    "    checkpoint_callback = pl.callbacks.ModelCheckpoint(\n",
    "          verbose=False,\n",
    "          save_last=True,\n",
    "          save_weights_only=True\n",
    "    )\n",
    "    callbacks = [checkpoint_callback]\n",
    "\n",
    "    # SET LOGGER\n",
    "    tb_logger = pl.loggers.TensorBoardLogger(\n",
    "        save_dir=args.log_dir,\n",
    "        name=name,\n",
    "        version=version, \n",
    "    )\n",
    "\n",
    "    # Initialize a trainer\n",
    "    trainer = pl.Trainer(\n",
    "        callbacks=callbacks,\n",
    "#         deterministic=True if (args.decoder != 'fapn') else None,\n",
    "        accelerator='gpu',\n",
    "        devices=[int(t) for t in args.gpus.split(',')],\n",
    "        gradient_clip_val=1.0 if args.optimizer != 'sam' else None,\n",
    "        gradient_clip_algorithm='norm',\n",
    "        max_epochs=args.epochs,\n",
    "        logger=tb_logger,\n",
    "        num_sanity_val_steps=0,\n",
    "        precision=args.precision,\n",
    "    )\n",
    "\n",
    "    # Train the model\n",
    "    trainer.fit(model, datamodule)\n",
    "    \n",
    "    # include the paths in the list\n",
    "    checkpoint_paths.append(f\"{trainer.checkpoint_callback.dirpath}/last.ckpt\")"
   ]
  },
  {
   "cell_type": "code",
   "execution_count": 7,
   "id": "b63d335a",
   "metadata": {},
   "outputs": [],
   "source": [
    "checkpoint_paths"
   ]
  },
  {
   "cell_type": "code",
   "execution_count": 9,
   "id": "38519cf4",
   "metadata": {},
   "outputs": [],
   "source": [
    "# clear space used up during training to give room for inferencing\n",
    "free_memory([model, trainer, datamodule])"
   ]
  },
  {
   "cell_type": "markdown",
   "id": "40c988f6",
   "metadata": {},
   "source": [
    "# Prediction"
   ]
  },
  {
   "cell_type": "code",
   "execution_count": 10,
   "id": "0c58e4fd",
   "metadata": {},
   "outputs": [
    {
     "data": {
      "text/plain": [
       "(851968, 2)"
      ]
     },
     "execution_count": 10,
     "metadata": {},
     "output_type": "execute_result"
    }
   ],
   "source": [
    "ss = pd.read_csv('SampleSubmission.csv')\n",
    "ss.shape"
   ]
  },
  {
   "cell_type": "code",
   "execution_count": 11,
   "id": "7e9159d7",
   "metadata": {},
   "outputs": [],
   "source": [
    "os.makedirs('submissions', exist_ok=True)"
   ]
  },
  {
   "cell_type": "code",
   "execution_count": 12,
   "id": "e59f403f",
   "metadata": {},
   "outputs": [
    {
     "name": "stderr",
     "output_type": "stream",
     "text": [
      "Global seed set to 417\n"
     ]
    },
    {
     "name": "stdout",
     "output_type": "stream",
     "text": [
      "\n",
      "\n",
      "Namespace(log_dir='results', batch_size=4, seed=417, epochs=40, use_visible_bands_only=True, include_extent=False, include_background=False, include_distance=False, gpus='0', model='selecsls42b', decoder='MANet', precision=32, optimizer='sam', scheduler='', warmup=10, weight_decay=1e-05, repeats=25, lr=0.001)\n",
      "\n",
      "\n",
      "Using Timm encoder\n"
     ]
    },
    {
     "name": "stderr",
     "output_type": "stream",
     "text": [
      "GPU available: True (cuda), used: True\n",
      "TPU available: False, using: 0 TPU cores\n",
      "IPU available: False, using: 0 IPUs\n",
      "HPU available: False, using: 0 HPUs\n",
      "LOCAL_RANK: 0 - CUDA_VISIBLE_DEVICES: [0,1]\n"
     ]
    },
    {
     "data": {
      "application/vnd.jupyter.widget-view+json": {
       "model_id": "9bb0035f5c4e438ab66843f45633b397",
       "version_major": 2,
       "version_minor": 0
      },
      "text/plain": [
       "Predicting: 0it [00:00, ?it/s]"
      ]
     },
     "metadata": {},
     "output_type": "display_data"
    },
    {
     "name": "stderr",
     "output_type": "stream",
     "text": [
      "Global seed set to 417\n"
     ]
    },
    {
     "name": "stdout",
     "output_type": "stream",
     "text": [
      "\n",
      "\n",
      "Namespace(log_dir='results', batch_size=4, seed=417, epochs=40, use_visible_bands_only=False, include_extent=False, include_background=False, include_distance=False, gpus='0', model='selecsls42b', decoder='MANet', precision=32, optimizer='sam', scheduler='', warmup=10, weight_decay=1e-05, repeats=25, lr=0.001)\n",
      "\n",
      "\n",
      "Using Timm encoder\n"
     ]
    },
    {
     "name": "stderr",
     "output_type": "stream",
     "text": [
      "GPU available: True (cuda), used: True\n",
      "TPU available: False, using: 0 TPU cores\n",
      "IPU available: False, using: 0 IPUs\n",
      "HPU available: False, using: 0 HPUs\n",
      "LOCAL_RANK: 0 - CUDA_VISIBLE_DEVICES: [0,1]\n"
     ]
    },
    {
     "data": {
      "application/vnd.jupyter.widget-view+json": {
       "model_id": "61497029d0f14305a8a2afc48c556376",
       "version_major": 2,
       "version_minor": 0
      },
      "text/plain": [
       "Predicting: 0it [00:00, ?it/s]"
      ]
     },
     "metadata": {},
     "output_type": "display_data"
    },
    {
     "name": "stderr",
     "output_type": "stream",
     "text": [
      "Global seed set to 417\n"
     ]
    },
    {
     "name": "stdout",
     "output_type": "stream",
     "text": [
      "\n",
      "\n",
      "Namespace(log_dir='results', batch_size=4, seed=417, epochs=40, use_visible_bands_only=True, include_extent=True, include_background=False, include_distance=False, gpus='0', model='selecsls42b', decoder='MANet', precision=32, optimizer='sam', scheduler='', warmup=10, weight_decay=1e-05, repeats=25, lr=0.001)\n",
      "\n",
      "\n",
      "Using Timm encoder\n"
     ]
    },
    {
     "name": "stderr",
     "output_type": "stream",
     "text": [
      "GPU available: True (cuda), used: True\n",
      "TPU available: False, using: 0 TPU cores\n",
      "IPU available: False, using: 0 IPUs\n",
      "HPU available: False, using: 0 HPUs\n",
      "LOCAL_RANK: 0 - CUDA_VISIBLE_DEVICES: [0,1]\n"
     ]
    },
    {
     "data": {
      "application/vnd.jupyter.widget-view+json": {
       "model_id": "1b398fa9859e469892730ccfda25bce0",
       "version_major": 2,
       "version_minor": 0
      },
      "text/plain": [
       "Predicting: 0it [00:00, ?it/s]"
      ]
     },
     "metadata": {},
     "output_type": "display_data"
    },
    {
     "name": "stderr",
     "output_type": "stream",
     "text": [
      "Global seed set to 417\n"
     ]
    },
    {
     "name": "stdout",
     "output_type": "stream",
     "text": [
      "\n",
      "\n",
      "Namespace(log_dir='results', batch_size=4, seed=417, epochs=40, use_visible_bands_only=True, include_extent=False, include_background=False, include_distance=False, gpus='0', model='selecsls42b', decoder='fapn', precision=32, optimizer='sam', scheduler='step', warmup=10, weight_decay=1e-05, repeats=25, lr=0.001)\n",
      "\n",
      "\n",
      "Using Timm encoder\n"
     ]
    },
    {
     "name": "stderr",
     "output_type": "stream",
     "text": [
      "GPU available: True (cuda), used: True\n",
      "TPU available: False, using: 0 TPU cores\n",
      "IPU available: False, using: 0 IPUs\n",
      "HPU available: False, using: 0 HPUs\n",
      "LOCAL_RANK: 0 - CUDA_VISIBLE_DEVICES: [0,1]\n"
     ]
    },
    {
     "data": {
      "application/vnd.jupyter.widget-view+json": {
       "model_id": "a8b6b9648d7b45dfbef64a029c14512a",
       "version_major": 2,
       "version_minor": 0
      },
      "text/plain": [
       "Predicting: 0it [00:00, ?it/s]"
      ]
     },
     "metadata": {},
     "output_type": "display_data"
    },
    {
     "name": "stderr",
     "output_type": "stream",
     "text": [
      "Global seed set to 417\n"
     ]
    },
    {
     "name": "stdout",
     "output_type": "stream",
     "text": [
      "\n",
      "\n",
      "Namespace(log_dir='results', batch_size=4, seed=417, epochs=40, use_visible_bands_only=True, include_extent=False, include_background=False, include_distance=False, gpus='0', model='selecsls42b', decoder='manet', precision=32, optimizer='sam', scheduler='', warmup=10, weight_decay=1e-05, repeats=25, lr=0.001)\n",
      "\n",
      "\n",
      "Using Timm encoder\n"
     ]
    },
    {
     "name": "stderr",
     "output_type": "stream",
     "text": [
      "GPU available: True (cuda), used: True\n",
      "TPU available: False, using: 0 TPU cores\n",
      "IPU available: False, using: 0 IPUs\n",
      "HPU available: False, using: 0 HPUs\n",
      "LOCAL_RANK: 0 - CUDA_VISIBLE_DEVICES: [0,1]\n"
     ]
    },
    {
     "data": {
      "application/vnd.jupyter.widget-view+json": {
       "model_id": "79625457d9814936a3a8ad5c3cf5653c",
       "version_major": 2,
       "version_minor": 0
      },
      "text/plain": [
       "Predicting: 0it [00:00, ?it/s]"
      ]
     },
     "metadata": {},
     "output_type": "display_data"
    },
    {
     "name": "stderr",
     "output_type": "stream",
     "text": [
      "Global seed set to 417\n"
     ]
    },
    {
     "name": "stdout",
     "output_type": "stream",
     "text": [
      "\n",
      "\n",
      "Namespace(log_dir='results', batch_size=4, seed=417, epochs=40, use_visible_bands_only=True, include_extent=True, include_background=False, include_distance=False, gpus='0', model='selecsls42b', decoder='manet', precision=32, optimizer='sam', scheduler='', warmup=10, weight_decay=1e-05, repeats=25, lr=0.001)\n",
      "\n",
      "\n",
      "Using Timm encoder\n"
     ]
    },
    {
     "name": "stderr",
     "output_type": "stream",
     "text": [
      "GPU available: True (cuda), used: True\n",
      "TPU available: False, using: 0 TPU cores\n",
      "IPU available: False, using: 0 IPUs\n",
      "HPU available: False, using: 0 HPUs\n",
      "LOCAL_RANK: 0 - CUDA_VISIBLE_DEVICES: [0,1]\n"
     ]
    },
    {
     "data": {
      "application/vnd.jupyter.widget-view+json": {
       "model_id": "6fc86d26c4034bec9fc092737e29f9ec",
       "version_major": 2,
       "version_minor": 0
      },
      "text/plain": [
       "Predicting: 0it [00:00, ?it/s]"
      ]
     },
     "metadata": {},
     "output_type": "display_data"
    },
    {
     "name": "stderr",
     "output_type": "stream",
     "text": [
      "Global seed set to 417\n"
     ]
    },
    {
     "name": "stdout",
     "output_type": "stream",
     "text": [
      "\n",
      "\n",
      "Namespace(log_dir='results', batch_size=4, seed=417, epochs=40, use_visible_bands_only=True, include_extent=False, include_background=False, include_distance=False, gpus='0', model='selecsls60', decoder='MANet', precision=32, optimizer='sam', scheduler='', warmup=10, weight_decay=1e-05, repeats=25, lr=0.001)\n",
      "\n",
      "\n",
      "Using Timm encoder\n"
     ]
    },
    {
     "name": "stderr",
     "output_type": "stream",
     "text": [
      "GPU available: True (cuda), used: True\n",
      "TPU available: False, using: 0 TPU cores\n",
      "IPU available: False, using: 0 IPUs\n",
      "HPU available: False, using: 0 HPUs\n",
      "LOCAL_RANK: 0 - CUDA_VISIBLE_DEVICES: [0,1]\n"
     ]
    },
    {
     "data": {
      "application/vnd.jupyter.widget-view+json": {
       "model_id": "6a87e9160dd54c88b7976b762054f60d",
       "version_major": 2,
       "version_minor": 0
      },
      "text/plain": [
       "Predicting: 0it [00:00, ?it/s]"
      ]
     },
     "metadata": {},
     "output_type": "display_data"
    },
    {
     "name": "stderr",
     "output_type": "stream",
     "text": [
      "Global seed set to 417\n"
     ]
    },
    {
     "name": "stdout",
     "output_type": "stream",
     "text": [
      "\n",
      "\n",
      "Namespace(log_dir='results', batch_size=4, seed=417, epochs=40, use_visible_bands_only=True, include_extent=False, include_background=False, include_distance=False, gpus='0', model='selecsls60', decoder='manet', precision=32, optimizer='sam', scheduler='', warmup=10, weight_decay=1e-05, repeats=25, lr=0.001)\n",
      "\n",
      "\n",
      "Using Timm encoder\n"
     ]
    },
    {
     "name": "stderr",
     "output_type": "stream",
     "text": [
      "GPU available: True (cuda), used: True\n",
      "TPU available: False, using: 0 TPU cores\n",
      "IPU available: False, using: 0 IPUs\n",
      "HPU available: False, using: 0 HPUs\n",
      "LOCAL_RANK: 0 - CUDA_VISIBLE_DEVICES: [0,1]\n"
     ]
    },
    {
     "data": {
      "application/vnd.jupyter.widget-view+json": {
       "model_id": "d42eed891c57423cb5352500ebc84c34",
       "version_major": 2,
       "version_minor": 0
      },
      "text/plain": [
       "Predicting: 0it [00:00, ?it/s]"
      ]
     },
     "metadata": {},
     "output_type": "display_data"
    },
    {
     "name": "stderr",
     "output_type": "stream",
     "text": [
      "Global seed set to 417\n"
     ]
    },
    {
     "name": "stdout",
     "output_type": "stream",
     "text": [
      "\n",
      "\n",
      "Namespace(log_dir='results', batch_size=4, seed=417, epochs=40, use_visible_bands_only=True, include_extent=False, include_background=False, include_distance=False, gpus='0', model='selecsls60b', decoder='MANet', precision=32, optimizer='sam', scheduler='', warmup=10, weight_decay=1e-05, repeats=25, lr=0.001)\n",
      "\n",
      "\n",
      "Using Timm encoder\n"
     ]
    },
    {
     "name": "stderr",
     "output_type": "stream",
     "text": [
      "GPU available: True (cuda), used: True\n",
      "TPU available: False, using: 0 TPU cores\n",
      "IPU available: False, using: 0 IPUs\n",
      "HPU available: False, using: 0 HPUs\n",
      "LOCAL_RANK: 0 - CUDA_VISIBLE_DEVICES: [0,1]\n"
     ]
    },
    {
     "data": {
      "application/vnd.jupyter.widget-view+json": {
       "model_id": "931b0e5912cf4bfe81acb7e5b40f59b9",
       "version_major": 2,
       "version_minor": 0
      },
      "text/plain": [
       "Predicting: 0it [00:00, ?it/s]"
      ]
     },
     "metadata": {},
     "output_type": "display_data"
    },
    {
     "name": "stderr",
     "output_type": "stream",
     "text": [
      "Global seed set to 417\n"
     ]
    },
    {
     "name": "stdout",
     "output_type": "stream",
     "text": [
      "\n",
      "\n",
      "Namespace(log_dir='results', batch_size=4, seed=417, epochs=40, use_visible_bands_only=False, include_extent=False, include_background=False, include_distance=False, gpus='0', model='sehalonet33ts', decoder='MANet', precision=32, optimizer='sam', scheduler='', warmup=10, weight_decay=1e-05, repeats=25, lr=0.001)\n",
      "\n",
      "\n",
      "Using Timm encoder\n"
     ]
    },
    {
     "name": "stderr",
     "output_type": "stream",
     "text": [
      "GPU available: True (cuda), used: True\n",
      "TPU available: False, using: 0 TPU cores\n",
      "IPU available: False, using: 0 IPUs\n",
      "HPU available: False, using: 0 HPUs\n",
      "LOCAL_RANK: 0 - CUDA_VISIBLE_DEVICES: [0,1]\n"
     ]
    },
    {
     "data": {
      "application/vnd.jupyter.widget-view+json": {
       "model_id": "4c2be70917d64346a1facaf6844ad1f9",
       "version_major": 2,
       "version_minor": 0
      },
      "text/plain": [
       "Predicting: 0it [00:00, ?it/s]"
      ]
     },
     "metadata": {},
     "output_type": "display_data"
    },
    {
     "name": "stderr",
     "output_type": "stream",
     "text": [
      "Global seed set to 417\n"
     ]
    },
    {
     "name": "stdout",
     "output_type": "stream",
     "text": [
      "\n",
      "\n",
      "Namespace(log_dir='results', batch_size=4, seed=417, epochs=40, use_visible_bands_only=False, include_extent=False, include_background=False, include_distance=False, gpus='0', model='sebotnet33ts_256', decoder='MANet', precision=32, optimizer='sam', scheduler='', warmup=10, weight_decay=1e-05, repeats=25, lr=0.001)\n",
      "\n",
      "\n",
      "Using Timm encoder\n"
     ]
    },
    {
     "name": "stderr",
     "output_type": "stream",
     "text": [
      "GPU available: True (cuda), used: True\n",
      "TPU available: False, using: 0 TPU cores\n",
      "IPU available: False, using: 0 IPUs\n",
      "HPU available: False, using: 0 HPUs\n",
      "LOCAL_RANK: 0 - CUDA_VISIBLE_DEVICES: [0,1]\n"
     ]
    },
    {
     "data": {
      "application/vnd.jupyter.widget-view+json": {
       "model_id": "3bbf835d0e394cdd92e5e214ab17b386",
       "version_major": 2,
       "version_minor": 0
      },
      "text/plain": [
       "Predicting: 0it [00:00, ?it/s]"
      ]
     },
     "metadata": {},
     "output_type": "display_data"
    },
    {
     "name": "stderr",
     "output_type": "stream",
     "text": [
      "Global seed set to 417\n"
     ]
    },
    {
     "name": "stdout",
     "output_type": "stream",
     "text": [
      "\n",
      "\n",
      "Namespace(log_dir='results', batch_size=4, seed=417, epochs=40, use_visible_bands_only=True, include_extent=False, include_background=False, include_distance=False, gpus='0', model='sebotnet33ts_256', decoder='MANet', precision=32, optimizer='sam', scheduler='', warmup=10, weight_decay=1e-05, repeats=25, lr=0.001)\n",
      "\n",
      "\n",
      "Using Timm encoder\n"
     ]
    },
    {
     "name": "stderr",
     "output_type": "stream",
     "text": [
      "GPU available: True (cuda), used: True\n",
      "TPU available: False, using: 0 TPU cores\n",
      "IPU available: False, using: 0 IPUs\n",
      "HPU available: False, using: 0 HPUs\n",
      "LOCAL_RANK: 0 - CUDA_VISIBLE_DEVICES: [0,1]\n"
     ]
    },
    {
     "data": {
      "application/vnd.jupyter.widget-view+json": {
       "model_id": "6e004232a8dd40eab48926932d3b58f9",
       "version_major": 2,
       "version_minor": 0
      },
      "text/plain": [
       "Predicting: 0it [00:00, ?it/s]"
      ]
     },
     "metadata": {},
     "output_type": "display_data"
    },
    {
     "name": "stderr",
     "output_type": "stream",
     "text": [
      "Global seed set to 417\n"
     ]
    },
    {
     "name": "stdout",
     "output_type": "stream",
     "text": [
      "\n",
      "\n",
      "Namespace(log_dir='results', batch_size=4, seed=417, epochs=40, use_visible_bands_only=True, include_extent=False, include_background=False, include_distance=False, gpus='0', model='vgg13_bn', decoder='manet', precision=32, optimizer='sam', scheduler='', warmup=10, weight_decay=1e-05, repeats=25, lr=0.001)\n",
      "\n",
      "\n"
     ]
    },
    {
     "name": "stderr",
     "output_type": "stream",
     "text": [
      "GPU available: True (cuda), used: True\n",
      "TPU available: False, using: 0 TPU cores\n",
      "IPU available: False, using: 0 IPUs\n",
      "HPU available: False, using: 0 HPUs\n",
      "LOCAL_RANK: 0 - CUDA_VISIBLE_DEVICES: [0,1]\n"
     ]
    },
    {
     "data": {
      "application/vnd.jupyter.widget-view+json": {
       "model_id": "6436dd6d7f2d478089f5ae4b52cdb87f",
       "version_major": 2,
       "version_minor": 0
      },
      "text/plain": [
       "Predicting: 0it [00:00, ?it/s]"
      ]
     },
     "metadata": {},
     "output_type": "display_data"
    },
    {
     "name": "stderr",
     "output_type": "stream",
     "text": [
      "Global seed set to 417\n"
     ]
    },
    {
     "name": "stdout",
     "output_type": "stream",
     "text": [
      "\n",
      "\n",
      "Namespace(log_dir='results', batch_size=4, seed=417, epochs=40, use_visible_bands_only=False, include_extent=False, include_background=False, include_distance=False, gpus='0', model='vgg13_bn', decoder='unet++', precision=32, optimizer='adamw', scheduler='onecycle', warmup=10, weight_decay=1e-05, repeats=25, lr=0.001)\n",
      "\n",
      "\n"
     ]
    },
    {
     "name": "stderr",
     "output_type": "stream",
     "text": [
      "GPU available: True (cuda), used: True\n",
      "TPU available: False, using: 0 TPU cores\n",
      "IPU available: False, using: 0 IPUs\n",
      "HPU available: False, using: 0 HPUs\n",
      "LOCAL_RANK: 0 - CUDA_VISIBLE_DEVICES: [0,1]\n"
     ]
    },
    {
     "data": {
      "application/vnd.jupyter.widget-view+json": {
       "model_id": "d59b1b38a3e344abbf1dc00d58832741",
       "version_major": 2,
       "version_minor": 0
      },
      "text/plain": [
       "Predicting: 0it [00:00, ?it/s]"
      ]
     },
     "metadata": {},
     "output_type": "display_data"
    },
    {
     "name": "stderr",
     "output_type": "stream",
     "text": [
      "Global seed set to 417\n"
     ]
    },
    {
     "name": "stdout",
     "output_type": "stream",
     "text": [
      "\n",
      "\n",
      "Namespace(log_dir='results', batch_size=4, seed=417, epochs=40, use_visible_bands_only=True, include_extent=False, include_background=False, include_distance=False, gpus='0', model='vgg19', decoder='manet', precision=32, optimizer='sam', scheduler='', warmup=10, weight_decay=1e-05, repeats=25, lr=0.001)\n",
      "\n",
      "\n"
     ]
    },
    {
     "name": "stderr",
     "output_type": "stream",
     "text": [
      "GPU available: True (cuda), used: True\n",
      "TPU available: False, using: 0 TPU cores\n",
      "IPU available: False, using: 0 IPUs\n",
      "HPU available: False, using: 0 HPUs\n",
      "LOCAL_RANK: 0 - CUDA_VISIBLE_DEVICES: [0,1]\n"
     ]
    },
    {
     "data": {
      "application/vnd.jupyter.widget-view+json": {
       "model_id": "f02d84c8859e4637b6b66a6727ec6d8a",
       "version_major": 2,
       "version_minor": 0
      },
      "text/plain": [
       "Predicting: 0it [00:00, ?it/s]"
      ]
     },
     "metadata": {},
     "output_type": "display_data"
    },
    {
     "name": "stderr",
     "output_type": "stream",
     "text": [
      "Global seed set to 417\n"
     ]
    },
    {
     "name": "stdout",
     "output_type": "stream",
     "text": [
      "\n",
      "\n",
      "Namespace(log_dir='results', batch_size=4, seed=417, epochs=40, use_visible_bands_only=False, include_extent=False, include_background=False, include_distance=False, gpus='0', model='vgg19_bn', decoder='unet++', precision=32, optimizer='adamw', scheduler='onecycle', warmup=10, weight_decay=1e-05, repeats=25, lr=0.001)\n",
      "\n",
      "\n"
     ]
    },
    {
     "name": "stderr",
     "output_type": "stream",
     "text": [
      "GPU available: True (cuda), used: True\n",
      "TPU available: False, using: 0 TPU cores\n",
      "IPU available: False, using: 0 IPUs\n",
      "HPU available: False, using: 0 HPUs\n",
      "LOCAL_RANK: 0 - CUDA_VISIBLE_DEVICES: [0,1]\n"
     ]
    },
    {
     "data": {
      "application/vnd.jupyter.widget-view+json": {
       "model_id": "3e0e87f88cb2405b9b3c5666da6ab653",
       "version_major": 2,
       "version_minor": 0
      },
      "text/plain": [
       "Predicting: 0it [00:00, ?it/s]"
      ]
     },
     "metadata": {},
     "output_type": "display_data"
    },
    {
     "name": "stderr",
     "output_type": "stream",
     "text": [
      "Global seed set to 417\n"
     ]
    },
    {
     "name": "stdout",
     "output_type": "stream",
     "text": [
      "\n",
      "\n",
      "Namespace(log_dir='results', batch_size=4, seed=417, epochs=40, use_visible_bands_only=False, include_extent=False, include_background=False, include_distance=False, gpus='0', model='vgg16', decoder='unet++', precision=32, optimizer='adamw', scheduler='onecycle', warmup=10, weight_decay=1e-05, repeats=25, lr=0.001)\n",
      "\n",
      "\n"
     ]
    },
    {
     "name": "stderr",
     "output_type": "stream",
     "text": [
      "GPU available: True (cuda), used: True\n",
      "TPU available: False, using: 0 TPU cores\n",
      "IPU available: False, using: 0 IPUs\n",
      "HPU available: False, using: 0 HPUs\n",
      "LOCAL_RANK: 0 - CUDA_VISIBLE_DEVICES: [0,1]\n"
     ]
    },
    {
     "data": {
      "application/vnd.jupyter.widget-view+json": {
       "model_id": "454524b871dd40618f4c7277eb3f184c",
       "version_major": 2,
       "version_minor": 0
      },
      "text/plain": [
       "Predicting: 0it [00:00, ?it/s]"
      ]
     },
     "metadata": {},
     "output_type": "display_data"
    }
   ],
   "source": [
    "all_predictions = []\n",
    "dfs = []\n",
    "for index in cfgs.index:\n",
    "    cfg = cfgs.iloc[index]\n",
    "    \n",
    "    args = dict(\n",
    "        log_dir=log_dir,\n",
    "#         num_classes=3,\n",
    "        batch_size=4,\n",
    "        seed=SEED,\n",
    "        epochs=40,\n",
    "#         patience=20,\n",
    "        use_visible_bands_only=cfg['use_visible_only'],\n",
    "        include_extent=cfg['include_extent'],\n",
    "        include_background=False,\n",
    "        include_distance=False,\n",
    "        gpus='0',\n",
    "        model=cfg['backbone'],\n",
    "        decoder=cfg['decoder'],\n",
    "        precision=32,\n",
    "        optimizer=cfg['optimizer'],\n",
    "        scheduler=cfg['scheduler'],\n",
    "        warmup=10,\n",
    "        weight_decay=1e-5,\n",
    "        repeats=25,\n",
    "        lr=1e-3,\n",
    "    )\n",
    "\n",
    "\n",
    "    args = argparse.Namespace(**args)\n",
    "    \n",
    "    date_time = datetime.datetime.now().strftime(\"%m%d-%H:%M\")\n",
    "\n",
    "    name = args.model + '_' + args.decoder\n",
    "    version = name + '_' + date_time\n",
    "\n",
    "    # make reproducible\n",
    "    pl.seed_everything(args.seed, workers=True)\n",
    "\n",
    "    print('\\n')\n",
    "    print(args)\n",
    "    print('\\n')\n",
    "    \n",
    "    # the datamodule here\n",
    "    datamodule = BoundaryData(\n",
    "        batch_size=args.batch_size, \n",
    "        seed=args.seed, \n",
    "        workers=8,\n",
    "        repeats=args.repeats, \n",
    "        use_visible_bands_only=args.use_visible_bands_only,\n",
    "        include_extent=args.include_extent,\n",
    "        include_distance=args.include_distance,\n",
    "        include_background=args.include_background,\n",
    "        data_root='data/',\n",
    "    )\n",
    "    datamodule.setup()\n",
    "    \n",
    "    # call the model here\n",
    "    voting_model = EnsembleVotingModel(\n",
    "        BoundaryModel,  # the model class to load trained models from\n",
    "        [checkpoint_paths[index]], # list of all trained models\n",
    "        use_tta=True,   # using test time augmentation\n",
    "        tta_mode='max', # max merging of the test time augmentation used\n",
    "        threshold=0.9,  # using a very high threshold for each model prediction before voting\n",
    "        soft=True,     # using hard voting (mode suggested by the models)\n",
    "    )\n",
    "\n",
    "    # Initialize a trainer\n",
    "    trainer = pl.Trainer(\n",
    "        accelerator='gpu',\n",
    "        devices=[int(t) for t in args.gpus.split(',')],\n",
    "        precision=args.precision,\n",
    "    )\n",
    "\n",
    "    # predicting !!!!\n",
    "    predictions = trainer.predict(voting_model, datamodule.test_dataloader())\n",
    "    predictions = torch.cat(predictions, axis=0)  # combine the batches\n",
    "    predictions = predictions[:, 0].transpose(1,2).flatten()\n",
    "    \n",
    "    sub_tta = ss[['tile_row_column']]\n",
    "    sub_tta['label'] = predictions\n",
    "    \n",
    "    version = checkpoint_paths[index].split(os.sep)[-3]\n",
    "    sub_tta.to_csv(f\"submissions/{version}.csv\", index=False)\n",
    "    \n",
    "    dfs.append(sub_tta)\n",
    "    all_predictions.append(predictions)\n",
    "    \n",
    "    free_memory([voting_model, trainer, datamodule])"
   ]
  },
  {
   "cell_type": "code",
   "execution_count": 23,
   "id": "91a91b5d",
   "metadata": {},
   "outputs": [
    {
     "name": "stdout",
     "output_type": "stream",
     "text": [
      "0    789030\n",
      "1     62938\n",
      "Name: label, dtype: int64\n"
     ]
    },
    {
     "data": {
      "text/html": [
       "<div>\n",
       "<style scoped>\n",
       "    .dataframe tbody tr th:only-of-type {\n",
       "        vertical-align: middle;\n",
       "    }\n",
       "\n",
       "    .dataframe tbody tr th {\n",
       "        vertical-align: top;\n",
       "    }\n",
       "\n",
       "    .dataframe thead th {\n",
       "        text-align: right;\n",
       "    }\n",
       "</style>\n",
       "<table border=\"1\" class=\"dataframe\">\n",
       "  <thead>\n",
       "    <tr style=\"text-align: right;\">\n",
       "      <th></th>\n",
       "      <th>tile_row_column</th>\n",
       "      <th>label</th>\n",
       "    </tr>\n",
       "  </thead>\n",
       "  <tbody>\n",
       "    <tr>\n",
       "      <th>0</th>\n",
       "      <td>Tile00_0_0</td>\n",
       "      <td>0</td>\n",
       "    </tr>\n",
       "    <tr>\n",
       "      <th>1</th>\n",
       "      <td>Tile00_0_1</td>\n",
       "      <td>0</td>\n",
       "    </tr>\n",
       "    <tr>\n",
       "      <th>2</th>\n",
       "      <td>Tile00_0_2</td>\n",
       "      <td>0</td>\n",
       "    </tr>\n",
       "    <tr>\n",
       "      <th>3</th>\n",
       "      <td>Tile00_0_3</td>\n",
       "      <td>0</td>\n",
       "    </tr>\n",
       "    <tr>\n",
       "      <th>4</th>\n",
       "      <td>Tile00_0_4</td>\n",
       "      <td>0</td>\n",
       "    </tr>\n",
       "  </tbody>\n",
       "</table>\n",
       "</div>"
      ],
      "text/plain": [
       "  tile_row_column  label\n",
       "0      Tile00_0_0      0\n",
       "1      Tile00_0_1      0\n",
       "2      Tile00_0_2      0\n",
       "3      Tile00_0_3      0\n",
       "4      Tile00_0_4      0"
      ]
     },
     "execution_count": 23,
     "metadata": {},
     "output_type": "execute_result"
    }
   ],
   "source": [
    "num = len(all_predictions)\n",
    "preds = 1 * (torch.stack(all_predictions, axis=0).sum(axis=0) >= (num + 1)//2)\n",
    "\n",
    "sub = ss[['tile_row_column']]\n",
    "sub['label'] = preds\n",
    "\n",
    "sub.to_csv('ens_sub.csv', index=False)\n",
    "print(sub.label.value_counts())\n",
    "sub.head()"
   ]
  }
 ],
 "metadata": {
  "kernelspec": {
   "display_name": "ai4ex",
   "language": "python",
   "name": "ai4ex"
  },
  "language_info": {
   "codemirror_mode": {
    "name": "ipython",
    "version": 3
   },
   "file_extension": ".py",
   "mimetype": "text/x-python",
   "name": "python",
   "nbconvert_exporter": "python",
   "pygments_lexer": "ipython3",
   "version": "3.9.7"
  }
 },
 "nbformat": 4,
 "nbformat_minor": 5
}
